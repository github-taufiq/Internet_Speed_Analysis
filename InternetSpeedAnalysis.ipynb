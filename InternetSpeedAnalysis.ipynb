{
 "cells": [
  {
   "cell_type": "code",
   "execution_count": 16,
   "id": "ae096f70",
   "metadata": {},
   "outputs": [],
   "source": [
    "import pandas as pd\n",
    "import seaborn as sns\n",
    "import matplotlib.pyplot as plt"
   ]
  },
  {
   "cell_type": "code",
   "execution_count": 17,
   "id": "46df87a9",
   "metadata": {},
   "outputs": [],
   "source": [
    "df = pd.read_csv(\"April_MySpeed_2021.csv\")"
   ]
  },
  {
   "cell_type": "code",
   "execution_count": 24,
   "id": "7be6ea0c",
   "metadata": {},
   "outputs": [
    {
     "name": "stdout",
     "output_type": "stream",
     "text": [
      "<class 'pandas.core.frame.DataFrame'>\n",
      "RangeIndex: 275078 entries, 0 to 275077\n",
      "Data columns (total 6 columns):\n",
      " #   Column           Non-Null Count   Dtype \n",
      "---  ------           --------------   ----- \n",
      " 0   operator         275078 non-null  object\n",
      " 1   technology       275078 non-null  object\n",
      " 2   download         275078 non-null  object\n",
      " 3   speed            275078 non-null  int64 \n",
      " 4   signal_strength  275078 non-null  object\n",
      " 5   lsa              274369 non-null  object\n",
      "dtypes: int64(1), object(5)\n",
      "memory usage: 12.6+ MB\n"
     ]
    }
   ],
   "source": [
    "df.info()"
   ]
  },
  {
   "cell_type": "code",
   "execution_count": 18,
   "id": "ab406f45",
   "metadata": {
    "scrolled": true
   },
   "outputs": [
    {
     "data": {
      "text/html": [
       "<div>\n",
       "<style scoped>\n",
       "    .dataframe tbody tr th:only-of-type {\n",
       "        vertical-align: middle;\n",
       "    }\n",
       "\n",
       "    .dataframe tbody tr th {\n",
       "        vertical-align: top;\n",
       "    }\n",
       "\n",
       "    .dataframe thead th {\n",
       "        text-align: right;\n",
       "    }\n",
       "</style>\n",
       "<table border=\"1\" class=\"dataframe\">\n",
       "  <thead>\n",
       "    <tr style=\"text-align: right;\">\n",
       "      <th></th>\n",
       "      <th>0</th>\n",
       "      <th>1</th>\n",
       "      <th>2</th>\n",
       "      <th>3</th>\n",
       "      <th>4</th>\n",
       "    </tr>\n",
       "  </thead>\n",
       "  <tbody>\n",
       "    <tr>\n",
       "      <th>operator</th>\n",
       "      <td>IDEA</td>\n",
       "      <td>IDEA</td>\n",
       "      <td>IDEA</td>\n",
       "      <td>IDEA</td>\n",
       "      <td>JIO</td>\n",
       "    </tr>\n",
       "    <tr>\n",
       "      <th>technology</th>\n",
       "      <td>4G</td>\n",
       "      <td>4G</td>\n",
       "      <td>4G</td>\n",
       "      <td>4G</td>\n",
       "      <td>4G</td>\n",
       "    </tr>\n",
       "    <tr>\n",
       "      <th>download</th>\n",
       "      <td>upload</td>\n",
       "      <td>upload</td>\n",
       "      <td>upload</td>\n",
       "      <td>upload</td>\n",
       "      <td>download</td>\n",
       "    </tr>\n",
       "    <tr>\n",
       "      <th>speed</th>\n",
       "      <td>19160</td>\n",
       "      <td>8632</td>\n",
       "      <td>0</td>\n",
       "      <td>12708</td>\n",
       "      <td>9426</td>\n",
       "    </tr>\n",
       "    <tr>\n",
       "      <th>signal_strength</th>\n",
       "      <td>-81</td>\n",
       "      <td>-85</td>\n",
       "      <td>-77</td>\n",
       "      <td>-99</td>\n",
       "      <td>-105</td>\n",
       "    </tr>\n",
       "    <tr>\n",
       "      <th>lsa</th>\n",
       "      <td>Kerala</td>\n",
       "      <td>Kerala</td>\n",
       "      <td>Kerala</td>\n",
       "      <td>Kerala</td>\n",
       "      <td>Chennai</td>\n",
       "    </tr>\n",
       "  </tbody>\n",
       "</table>\n",
       "</div>"
      ],
      "text/plain": [
       "                      0       1       2       3         4\n",
       "operator           IDEA    IDEA    IDEA    IDEA       JIO\n",
       "technology           4G      4G      4G      4G        4G\n",
       "download         upload  upload  upload  upload  download\n",
       "speed             19160    8632       0   12708      9426\n",
       "signal_strength     -81     -85     -77     -99      -105\n",
       "lsa              Kerala  Kerala  Kerala  Kerala   Chennai"
      ]
     },
     "execution_count": 18,
     "metadata": {},
     "output_type": "execute_result"
    }
   ],
   "source": [
    "df.head(5).transpose()"
   ]
  },
  {
   "cell_type": "code",
   "execution_count": 19,
   "id": "67db7e65",
   "metadata": {},
   "outputs": [
    {
     "data": {
      "text/plain": [
       "array(['IDEA', 'JIO', 'VODAFONE', 'AIRTEL', 'CELLONE'], dtype=object)"
      ]
     },
     "execution_count": 19,
     "metadata": {},
     "output_type": "execute_result"
    }
   ],
   "source": [
    "df[\"operator\"].unique()"
   ]
  },
  {
   "cell_type": "code",
   "execution_count": 21,
   "id": "e772602a",
   "metadata": {},
   "outputs": [
    {
     "data": {
      "text/plain": [
       "JIO         151499\n",
       "AIRTEL       74628\n",
       "VODAFONE     22357\n",
       "IDEA         17107\n",
       "CELLONE       9487\n",
       "Name: operator, dtype: int64"
      ]
     },
     "execution_count": 21,
     "metadata": {},
     "output_type": "execute_result"
    }
   ],
   "source": [
    "df[\"operator\"].value_counts()"
   ]
  },
  {
   "cell_type": "code",
   "execution_count": 25,
   "id": "30e0ab21",
   "metadata": {},
   "outputs": [
    {
     "data": {
      "text/plain": [
       "8827.667752419315"
      ]
     },
     "execution_count": 25,
     "metadata": {},
     "output_type": "execute_result"
    }
   ],
   "source": [
    "df[\"speed\"].mean()"
   ]
  },
  {
   "cell_type": "code",
   "execution_count": 30,
   "id": "ceb0e65a",
   "metadata": {},
   "outputs": [
    {
     "data": {
      "text/plain": [
       "3247    AIRTEL\n",
       "Name: operator, dtype: object"
      ]
     },
     "execution_count": 30,
     "metadata": {},
     "output_type": "execute_result"
    }
   ],
   "source": [
    "df[df[\"speed\"] == df[\"speed\"].max()][\"operator\"]"
   ]
  },
  {
   "cell_type": "code",
   "execution_count": 34,
   "id": "9f797d9b",
   "metadata": {},
   "outputs": [
    {
     "data": {
      "text/plain": [
       "4407.16639867074"
      ]
     },
     "execution_count": 34,
     "metadata": {},
     "output_type": "execute_result"
    }
   ],
   "source": [
    "df[df[\"operator\"] == \"AIRTEL\"][\"speed\"].mean()"
   ]
  },
  {
   "cell_type": "code",
   "execution_count": 35,
   "id": "1f9edc7b",
   "metadata": {},
   "outputs": [
    {
     "data": {
      "text/plain": [
       "12117.622056911267"
      ]
     },
     "execution_count": 35,
     "metadata": {},
     "output_type": "execute_result"
    }
   ],
   "source": [
    "df[df[\"operator\"] == \"JIO\"][\"speed\"].mean()"
   ]
  },
  {
   "cell_type": "code",
   "execution_count": 36,
   "id": "f59af527",
   "metadata": {},
   "outputs": [
    {
     "data": {
      "text/plain": [
       "6802.958223375229"
      ]
     },
     "execution_count": 36,
     "metadata": {},
     "output_type": "execute_result"
    }
   ],
   "source": [
    "df[df[\"operator\"] == \"VODAFONE\"][\"speed\"].mean()"
   ]
  },
  {
   "cell_type": "code",
   "execution_count": 37,
   "id": "c8298567",
   "metadata": {},
   "outputs": [
    {
     "data": {
      "text/plain": [
       "1690.5599241066723"
      ]
     },
     "execution_count": 37,
     "metadata": {},
     "output_type": "execute_result"
    }
   ],
   "source": [
    "df[df[\"operator\"] == \"CELLONE\"][\"speed\"].mean()"
   ]
  },
  {
   "cell_type": "code",
   "execution_count": 38,
   "id": "23d3afd1",
   "metadata": {},
   "outputs": [
    {
     "data": {
      "text/plain": [
       "Maharashtra         26582\n",
       "Andhra Pradesh      25499\n",
       "Kerala              23442\n",
       "UP East             23379\n",
       "Tamil Nadu          19719\n",
       "Karnataka           17060\n",
       "UP West             16111\n",
       "Gujarat             15912\n",
       "Delhi               14986\n",
       "Madhya Pradesh      13624\n",
       "Rajasthan           11059\n",
       "Bihar               10641\n",
       "Punjab               9902\n",
       "Kolkata              9112\n",
       "Orissa               8248\n",
       "Mumbai               7397\n",
       "West Bengal          6827\n",
       "Haryana              4248\n",
       "Chennai              4122\n",
       "Himachal Pradesh     2045\n",
       "Assam                1998\n",
       "Jammu & Kashmir      1582\n",
       "North East            874\n",
       "Name: lsa, dtype: int64"
      ]
     },
     "execution_count": 38,
     "metadata": {},
     "output_type": "execute_result"
    }
   ],
   "source": [
    "df[\"lsa\"].value_counts()"
   ]
  },
  {
   "cell_type": "code",
   "execution_count": 41,
   "id": "cb18cf14",
   "metadata": {},
   "outputs": [
    {
     "data": {
      "text/plain": [
       "23"
      ]
     },
     "execution_count": 41,
     "metadata": {},
     "output_type": "execute_result"
    }
   ],
   "source": [
    "df[\"lsa\"].nunique()"
   ]
  },
  {
   "cell_type": "code",
   "execution_count": 42,
   "id": "46a712dc",
   "metadata": {},
   "outputs": [
    {
     "data": {
      "text/plain": [
       "4G    266103\n",
       "3G      8975\n",
       "Name: technology, dtype: int64"
      ]
     },
     "execution_count": 42,
     "metadata": {},
     "output_type": "execute_result"
    }
   ],
   "source": [
    "df[\"technology\"].value_counts()"
   ]
  },
  {
   "cell_type": "code",
   "execution_count": 43,
   "id": "189a3bf2",
   "metadata": {},
   "outputs": [
    {
     "data": {
      "text/plain": [
       "<seaborn.axisgrid.PairGrid at 0x1e46cc111f0>"
      ]
     },
     "execution_count": 43,
     "metadata": {},
     "output_type": "execute_result"
    },
    {
     "data": {
      "image/png": "[encoded data removed]",
      "text/plain": [
       "<Figure size 180x180 with 2 Axes>"
      ]
     },
     "metadata": {
      "needs_background": "light"
     },
     "output_type": "display_data"
    }
   ],
   "source": [
    "sns.pairplot(df)"
   ]
  }
 ],
 "metadata": {
  "kernelspec": {
   "display_name": "Python 3 (ipykernel)",
   "language": "python",
   "name": "python3"
  },
  "language_info": {
   "codemirror_mode": {
    "name": "ipython",
    "version": 3
   },
   "file_extension": ".py",
   "mimetype": "text/x-python",
   "name": "python",
   "nbconvert_exporter": "python",
   "pygments_lexer": "ipython3",
   "version": "3.9.7"
  }
 },
 "nbformat": 4,
 "nbformat_minor": 5
}
